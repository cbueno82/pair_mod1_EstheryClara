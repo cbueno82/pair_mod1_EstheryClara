{
 "cells": [
  {
   "cell_type": "code",
   "execution_count": 1,
   "id": "3fdd92ee",
   "metadata": {},
   "outputs": [
    {
     "name": "stdout",
     "output_type": "stream",
     "text": [
      "[2, 1]\n",
      "[12]\n",
      "[45, 67, 23, 45, 66, 34, 67, 99, 98, 67, 64, 44, 100]\n"
     ]
    }
   ],
   "source": [
    "temperaturas = [2, 45, 67, 23, 45, 66, 12, 1, 34, 67, 99, 98, 67, 64, 44, 100]\n",
    "bajas_temp = [ ]\n",
    "medias_temp = [ ]\n",
    "altas_temp = [ ]\n",
    "for temperatura in temperaturas:\n",
    "    if temperatura <= 10:\n",
    "        bajas_temp.append(temperatura)\n",
    "    elif temperatura >= 11 and temperatura <= 20:\n",
    "        medias_temp.append(temperatura)\n",
    "    else:\n",
    "        altas_temp.append(temperatura)\n",
    "print(bajas_temp)\n",
    "print(medias_temp)\n",
    "print(altas_temp)\n",
    "        \n",
    "        \n",
    "\n"
   ]
  },
  {
   "cell_type": "code",
   "execution_count": 5,
   "id": "57991bca",
   "metadata": {},
   "outputs": [
    {
     "name": "stdout",
     "output_type": "stream",
     "text": [
      "[35.6, 33.8]\n",
      "[53.6]\n",
      "[113.0, 152.6, 73.4, 113.0, 150.8, 93.2, 152.6, 210.2, 208.4, 152.6, 147.2, 111.2, 212.0]\n"
     ]
    }
   ],
   "source": [
    "bajas_temp_F = [ ]\n",
    "medias_temp_F = [ ]\n",
    "altas_temp_F = [ ]\n",
    "for temperatura in bajas_temp:\n",
    "    bajas_temp_F.append((temperatura * 9 / 5) + 32)\n",
    "print(bajas_temp_F)\n",
    "for temperatura in medias_temp:\n",
    "    medias_temp_F.append((temperatura * 9 / 5) + 32)\n",
    "print(medias_temp_F)\n",
    "for temperatura in altas_temp:\n",
    "    altas_temp_F.append((temperatura * 9 / 5) + 32)\n",
    "print(altas_temp_F)\n"
   ]
  },
  {
   "cell_type": "code",
   "execution_count": 8,
   "id": "94e1576e",
   "metadata": {},
   "outputs": [
    {
     "name": "stdout",
     "output_type": "stream",
     "text": [
      "[0, 1, 2, 3, 4, 5]\n"
     ]
    }
   ],
   "source": [
    "rango1 = range(0, 6)\n",
    "print(list(rango1))"
   ]
  },
  {
   "cell_type": "code",
   "execution_count": 9,
   "id": "28228b59",
   "metadata": {},
   "outputs": [
    {
     "name": "stdout",
     "output_type": "stream",
     "text": [
      "[3, 4, 5, 6]\n"
     ]
    }
   ],
   "source": [
    "rango2 = range(3, 7)\n",
    "print(list(rango2))"
   ]
  },
  {
   "cell_type": "code",
   "execution_count": 13,
   "id": "c12a5821",
   "metadata": {},
   "outputs": [
    {
     "name": "stdout",
     "output_type": "stream",
     "text": [
      "[6, 7, 8]\n"
     ]
    }
   ],
   "source": [
    "rango3 = range(6, 9)\n",
    "print(list(rango3))"
   ]
  },
  {
   "cell_type": "code",
   "execution_count": 14,
   "id": "5d8eea8c",
   "metadata": {},
   "outputs": [
    {
     "name": "stdout",
     "output_type": "stream",
     "text": [
      "[2, 3, 4]\n"
     ]
    }
   ],
   "source": [
    "rango4 = range(2, 5)\n",
    "print(list(rango4))"
   ]
  },
  {
   "cell_type": "code",
   "execution_count": 15,
   "id": "6cf395e0",
   "metadata": {},
   "outputs": [
    {
     "name": "stdout",
     "output_type": "stream",
     "text": [
      "[2, 5, 8, 11]\n"
     ]
    }
   ],
   "source": [
    "rango5 = range(2, 13, 3)\n",
    "print(list(rango5))"
   ]
  },
  {
   "cell_type": "code",
   "execution_count": 16,
   "id": "b468f8b8",
   "metadata": {},
   "outputs": [
    {
     "name": "stdout",
     "output_type": "stream",
     "text": [
      "[1, 3, 5, 7, 9]\n"
     ]
    }
   ],
   "source": [
    "rango6 = range(1, 10, 2)\n",
    "print(list(rango6))"
   ]
  },
  {
   "cell_type": "code",
   "execution_count": 21,
   "id": "b2bcd83b",
   "metadata": {},
   "outputs": [
    {
     "name": "stdout",
     "output_type": "stream",
     "text": [
      "[4, 2025, 4489, 529, 2025, 4356, 144, 1, 1156, 4489, 9801, 9604, 4489, 4096, 1936, 10000]\n"
     ]
    }
   ],
   "source": [
    "temperaturas_cuadrado = [ ]\n",
    "for temperatura in temperaturas:\n",
    "    temperaturas_cuadrado.append(temperatura ** 2)\n",
    "print(temperaturas_cuadrado)\n"
   ]
  }
 ],
 "metadata": {
  "kernelspec": {
   "display_name": "base",
   "language": "python",
   "name": "python3"
  },
  "language_info": {
   "codemirror_mode": {
    "name": "ipython",
    "version": 3
   },
   "file_extension": ".py",
   "mimetype": "text/x-python",
   "name": "python",
   "nbconvert_exporter": "python",
   "pygments_lexer": "ipython3",
   "version": "3.12.7"
  }
 },
 "nbformat": 4,
 "nbformat_minor": 5
}
