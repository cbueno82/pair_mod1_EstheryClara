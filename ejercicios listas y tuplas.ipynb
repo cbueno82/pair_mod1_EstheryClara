{
 "cells": [
  {
   "cell_type": "code",
   "execution_count": 1,
   "id": "7a812c6e",
   "metadata": {},
   "outputs": [],
   "source": [
    "colores = ['rojo', 'amarillo', 'violet', 'verde', 'azul', 'rosa']"
   ]
  },
  {
   "cell_type": "code",
   "execution_count": 2,
   "id": "adf2e599",
   "metadata": {},
   "outputs": [],
   "source": [
    "buses = [14, 25, 30, 102, 45]"
   ]
  },
  {
   "cell_type": "code",
   "execution_count": 3,
   "id": "79df9cc2",
   "metadata": {},
   "outputs": [],
   "source": [
    "temperaturas = [20, 19, 22, 21, 21, 21, 20]"
   ]
  },
  {
   "cell_type": "code",
   "execution_count": 8,
   "id": "60021115",
   "metadata": {},
   "outputs": [
    {
     "data": {
      "text/plain": [
       "str"
      ]
     },
     "execution_count": 8,
     "metadata": {},
     "output_type": "execute_result"
    }
   ],
   "source": [
    "nombres = 'Clara, Esther'\n",
    "type(nombres)"
   ]
  },
  {
   "cell_type": "code",
   "execution_count": 9,
   "id": "d983aa61",
   "metadata": {},
   "outputs": [
    {
     "data": {
      "text/plain": [
       "['C', 'l', 'a', 'r', 'a', ',', ' ', 'E', 's', 't', 'h', 'e', 'r']"
      ]
     },
     "execution_count": 9,
     "metadata": {},
     "output_type": "execute_result"
    }
   ],
   "source": [
    "list(nombres)"
   ]
  },
  {
   "cell_type": "code",
   "execution_count": 10,
   "id": "4e92d50c",
   "metadata": {},
   "outputs": [],
   "source": [
    "apellidos = 'Bueno, Domínguez'"
   ]
  },
  {
   "cell_type": "code",
   "execution_count": 11,
   "id": "6773902e",
   "metadata": {},
   "outputs": [
    {
     "data": {
      "text/plain": [
       "['B',\n",
       " 'u',\n",
       " 'e',\n",
       " 'n',\n",
       " 'o',\n",
       " ',',\n",
       " ' ',\n",
       " 'D',\n",
       " 'o',\n",
       " 'm',\n",
       " 'í',\n",
       " 'n',\n",
       " 'g',\n",
       " 'u',\n",
       " 'e',\n",
       " 'z']"
      ]
     },
     "execution_count": 11,
     "metadata": {},
     "output_type": "execute_result"
    }
   ],
   "source": [
    "list(apellidos)"
   ]
  },
  {
   "cell_type": "code",
   "execution_count": 6,
   "id": "a0e9edf6",
   "metadata": {},
   "outputs": [
    {
     "data": {
      "text/plain": [
       "5"
      ]
     },
     "execution_count": 6,
     "metadata": {},
     "output_type": "execute_result"
    }
   ],
   "source": [
    "len(buses)"
   ]
  },
  {
   "cell_type": "code",
   "execution_count": 12,
   "id": "1f1e7ac8",
   "metadata": {},
   "outputs": [
    {
     "data": {
      "text/plain": [
       "16"
      ]
     },
     "execution_count": 12,
     "metadata": {},
     "output_type": "execute_result"
    }
   ],
   "source": [
    "len(apellidos)"
   ]
  },
  {
   "cell_type": "code",
   "execution_count": 14,
   "id": "27174f9b",
   "metadata": {},
   "outputs": [],
   "source": [
    "max(temperaturas)\n",
    "maxima = max(temperaturas)"
   ]
  },
  {
   "cell_type": "code",
   "execution_count": 16,
   "id": "326a62db",
   "metadata": {},
   "outputs": [],
   "source": [
    "min(temperaturas)\n",
    "minima = min(temperaturas)"
   ]
  },
  {
   "cell_type": "code",
   "execution_count": 18,
   "id": "133c466b",
   "metadata": {},
   "outputs": [
    {
     "data": {
      "text/plain": [
       "True"
      ]
     },
     "execution_count": 18,
     "metadata": {},
     "output_type": "execute_result"
    }
   ],
   "source": [
    "'e' in nombres"
   ]
  },
  {
   "cell_type": "code",
   "execution_count": 19,
   "id": "257d014b",
   "metadata": {},
   "outputs": [
    {
     "data": {
      "text/plain": [
       "True"
      ]
     },
     "execution_count": 19,
     "metadata": {},
     "output_type": "execute_result"
    }
   ],
   "source": [
    "'rosa' in colores"
   ]
  },
  {
   "cell_type": "code",
   "execution_count": 20,
   "id": "79bac45e",
   "metadata": {},
   "outputs": [
    {
     "data": {
      "text/plain": [
       "True"
      ]
     },
     "execution_count": 20,
     "metadata": {},
     "output_type": "execute_result"
    }
   ],
   "source": [
    "'x' not in nombres"
   ]
  },
  {
   "cell_type": "code",
   "execution_count": 21,
   "id": "501612d5",
   "metadata": {},
   "outputs": [],
   "source": [
    "temperaturas2 = temperaturas.copy()"
   ]
  },
  {
   "cell_type": "code",
   "execution_count": 22,
   "id": "d122df0f",
   "metadata": {},
   "outputs": [],
   "source": [
    "temperaturas3 = temperaturas.copy()"
   ]
  },
  {
   "cell_type": "code",
   "execution_count": 23,
   "id": "01588e5d",
   "metadata": {},
   "outputs": [],
   "source": [
    "temperaturas2.clear()"
   ]
  },
  {
   "cell_type": "code",
   "execution_count": 24,
   "id": "7bf04fb8",
   "metadata": {},
   "outputs": [
    {
     "name": "stdout",
     "output_type": "stream",
     "text": [
      "[20, 19, 22, 21, 21, 21, 20] []\n"
     ]
    }
   ],
   "source": [
    "print(temperaturas, temperaturas2)"
   ]
  },
  {
   "cell_type": "code",
   "execution_count": 30,
   "id": "ee670d5b",
   "metadata": {},
   "outputs": [],
   "source": [
    "lista_nombres = list(nombres)"
   ]
  },
  {
   "cell_type": "code",
   "execution_count": 31,
   "id": "e6cb0067",
   "metadata": {},
   "outputs": [],
   "source": [
    "nombres2 = lista_nombres.copy()"
   ]
  },
  {
   "cell_type": "code",
   "execution_count": 32,
   "id": "6399c8be",
   "metadata": {},
   "outputs": [],
   "source": [
    "lista_apellidos = list(apellidos)"
   ]
  },
  {
   "cell_type": "code",
   "execution_count": null,
   "id": "b807037f",
   "metadata": {},
   "outputs": [],
   "source": []
  },
  {
   "cell_type": "code",
   "execution_count": null,
   "id": "ac514c95",
   "metadata": {},
   "outputs": [],
   "source": []
  }
 ],
 "metadata": {
  "kernelspec": {
   "display_name": "base",
   "language": "python",
   "name": "python3"
  },
  "language_info": {
   "codemirror_mode": {
    "name": "ipython",
    "version": 3
   },
   "file_extension": ".py",
   "mimetype": "text/x-python",
   "name": "python",
   "nbconvert_exporter": "python",
   "pygments_lexer": "ipython3",
   "version": "3.12.7"
  }
 },
 "nbformat": 4,
 "nbformat_minor": 5
}
