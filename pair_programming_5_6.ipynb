{
 "cells": [
  {
   "cell_type": "code",
   "execution_count": 1,
   "metadata": {},
   "outputs": [],
   "source": [
    "var1 = 8\n",
    "var2 = 2\n",
    "var3 = 8"
   ]
  },
  {
   "cell_type": "code",
   "execution_count": null,
   "metadata": {},
   "outputs": [],
   "source": [
    "if var1 > 6:\n",
    "    print(\"¡Es enorme!\")"
   ]
  },
  {
   "cell_type": "code",
   "execution_count": 3,
   "metadata": {},
   "outputs": [],
   "source": [
    "if var2 > 6:\n",
    "    print(\"¡Es enorme también!\")"
   ]
  },
  {
   "cell_type": "code",
   "execution_count": null,
   "metadata": {},
   "outputs": [],
   "source": [
    "if var3 > 6:\n",
    "    print(\"¡Es enorme!\")\n",
    "    print(\"¡Pero de verdad!\")"
   ]
  },
  {
   "cell_type": "code",
   "execution_count": null,
   "metadata": {},
   "outputs": [],
   "source": [
    "if var1 == var3:\n",
    "    print(\"Son iguales.\")"
   ]
  },
  {
   "cell_type": "code",
   "execution_count": 6,
   "metadata": {},
   "outputs": [],
   "source": [
    "if var1 == var2:\n",
    "    print(\"Son iguales.\")"
   ]
  },
  {
   "cell_type": "code",
   "execution_count": null,
   "metadata": {},
   "outputs": [],
   "source": [
    "if var1 >= var2:\n",
    "    dif = var1 - var2\n",
    "    print(\"La diferencia es\", dif)"
   ]
  },
  {
   "cell_type": "code",
   "execution_count": null,
   "metadata": {},
   "outputs": [],
   "source": [
    "if var1 > 6:\n",
    "    print(\"¡Es enorme!\")\n",
    "else:\n",
    "    print(\"Es chiquitín.\")"
   ]
  },
  {
   "cell_type": "code",
   "execution_count": null,
   "metadata": {},
   "outputs": [],
   "source": [
    "if var1 == var3: \n",
    "    print(\"Son iguales.\")\n",
    "else:\n",
    "    print(\"Son distintos.\")"
   ]
  },
  {
   "cell_type": "code",
   "execution_count": null,
   "metadata": {},
   "outputs": [],
   "source": [
    "edad = int(input(\"¿Cuántos años tienes? \"))\n",
    "\n",
    "if edad < 4:\n",
    "    print(\"Entrada gratis.\")\n",
    "elif edad > 18:\n",
    "    print(\"La entrada cuesta 10€.\")\n",
    "else:\n",
    "    print(\"La entrada cuesta 5€.\")"
   ]
  },
  {
   "cell_type": "code",
   "execution_count": null,
   "metadata": {},
   "outputs": [],
   "source": [
    "ahorros = 5\n",
    "while ahorros <= 20:\n",
    "    print(ahorros)\n",
    "    ahorros += 5"
   ]
  },
  {
   "cell_type": "code",
   "execution_count": null,
   "metadata": {},
   "outputs": [],
   "source": [
    "temperatura1 = input(\"Si quieres pasar de celsius a fahrenheit pulsa 1; si quieres pasar de fahrenheit a celsius, pulsa 2: \")\n",
    "temperatura2 = int(input(\"¿Qué temperatura quieres convertir? Dime solo el número: \"))\n",
    "\n",
    "if temperatura1 == \"1\":\n",
    "    print (temperatura2 * 1.8 + 32)\n",
    "elif temperatura1 == \"2\":\n",
    "    print ((temperatura2 - 32) * 0.5556)\n",
    "else: \n",
    "    print (\"La información introducida es incorrecta.\")"
   ]
  },
  {
   "cell_type": "code",
   "execution_count": null,
   "metadata": {},
   "outputs": [],
   "source": [
    "ingreso_anual = int(input(\"¿Cuál es tu ingreso anual sin decimales? \"))\n",
    "estado_civil = input(\"¿Cuál es tu estado civil? Marca 'S' si soltero y 'C' si casado\").upper()\n",
    "\n",
    "if estado_civil == \"S\":\n",
    "    if ingreso_anual <= 9875:\n",
    "        print(\"Tu IRPF es de\", ingreso_anual * 0.1, \".\")\n",
    "    elif 40125 < ingreso_anual > 9876:\n",
    "        impuesto1 = 9875 * 0.1\n",
    "        impuesto2 = (ingreso_anual-9876) * 0.12\n",
    "        impuesto_total = impuesto1 + impuesto2\n",
    "        print(\"Tu IRPF es de\", impuesto_total, \".\")\n",
    "    else:\n",
    "        print(\"No hacemos cálculos para ricos.\")\n",
    "elif estado_civil == \"C\":\n",
    "    if ingreso_anual <= 19850:\n",
    "        print(\"Tu IRPF es de\", ingreso_anual * 0.1, \".\")\n",
    "    elif 19851 < ingreso_anual < 80250:\n",
    "        impuesto3 = 19850 * 0.1\n",
    "        impuesto4 = (ingreso_anual-19850) * 0.12\n",
    "        impuesto_total2 = impuesto3 + impuesto4\n",
    "        print(\"Tu IRPF es de\", impuesto_total2, \".\")\n",
    "    else:\n",
    "        print(\"No hacemos cálculos para ricos.\")\n",
    "        \n",
    "else:\n",
    "    print(\"La información introducida no es correcta.\")\n",
    "\n"
   ]
  }
 ],
 "metadata": {
  "kernelspec": {
   "display_name": "base",
   "language": "python",
   "name": "python3"
  },
  "language_info": {
   "codemirror_mode": {
    "name": "ipython",
    "version": 3
   },
   "file_extension": ".py",
   "mimetype": "text/x-python",
   "name": "python",
   "nbconvert_exporter": "python",
   "pygments_lexer": "ipython3",
   "version": "3.12.7"
  }
 },
 "nbformat": 4,
 "nbformat_minor": 2
}
