{
 "cells": [
  {
   "cell_type": "code",
   "execution_count": 1,
   "id": "519291a1",
   "metadata": {},
   "outputs": [],
   "source": [
    "festivos = {'01/01': 'año nuevo', '06/01': 'epifanía del señor', '15/04': 'viernes santo', '15/08': 'asunción de la virgen', '12/10': 'fiesta nacional de España', '01/11': 'todos los santos', '06/12': 'día de la constitución española', '08/12': 'Inmaculada concepción'}"
   ]
  },
  {
   "cell_type": "code",
   "execution_count": 2,
   "id": "db925903",
   "metadata": {},
   "outputs": [],
   "source": [
    "monarcas = {'Bélgica': 'Philippe', 'Dinamarca': 'Margreth II', 'Holanda': 'Beatrix', 'Noruega': 'Harald V', 'España': 'Felipe VI', 'Reino Unido': 'Carlos III'}"
   ]
  },
  {
   "cell_type": "code",
   "execution_count": 4,
   "id": "91cce4ed",
   "metadata": {},
   "outputs": [
    {
     "data": {
      "text/plain": [
       "dict"
      ]
     },
     "execution_count": 4,
     "metadata": {},
     "output_type": "execute_result"
    }
   ],
   "source": [
    "type(festivos)"
   ]
  },
  {
   "cell_type": "code",
   "execution_count": 5,
   "id": "ad30a26d",
   "metadata": {},
   "outputs": [
    {
     "data": {
      "text/plain": [
       "'viernes santo'"
      ]
     },
     "execution_count": 5,
     "metadata": {},
     "output_type": "execute_result"
    }
   ],
   "source": [
    "festivos.get('15/04')"
   ]
  },
  {
   "cell_type": "code",
   "execution_count": 8,
   "id": "fe17a4de",
   "metadata": {},
   "outputs": [],
   "source": [
    "nuevo_elemento = {'Holanda': 'Willem-Alexander'}\n",
    "monarcas.update(nuevo_elemento)"
   ]
  },
  {
   "cell_type": "code",
   "execution_count": 9,
   "id": "27a4396e",
   "metadata": {},
   "outputs": [
    {
     "name": "stdout",
     "output_type": "stream",
     "text": [
      "{'Bélgica': 'Philippe', 'Dinamarca': 'Margreth II', 'Holanda': 'Willem-Alexander', 'Noruega': 'Harald V', 'España': 'Felipe VI', 'Reino Unido': 'Carlos III'}\n"
     ]
    }
   ],
   "source": [
    "print(monarcas)"
   ]
  },
  {
   "cell_type": "code",
   "execution_count": 10,
   "id": "9541a9f5",
   "metadata": {},
   "outputs": [],
   "source": [
    "nuevo_elemento2 = {'Luxemburgo': 'Henri'}\n",
    "monarcas.update(nuevo_elemento2)"
   ]
  },
  {
   "cell_type": "code",
   "execution_count": 11,
   "id": "d125d254",
   "metadata": {},
   "outputs": [
    {
     "name": "stdout",
     "output_type": "stream",
     "text": [
      "{'Bélgica': 'Philippe', 'Dinamarca': 'Margreth II', 'Holanda': 'Willem-Alexander', 'Noruega': 'Harald V', 'España': 'Felipe VI', 'Reino Unido': 'Carlos III', 'Luxemburgo': 'Henri'}\n"
     ]
    }
   ],
   "source": [
    "print(monarcas)"
   ]
  },
  {
   "cell_type": "code",
   "execution_count": 12,
   "id": "e4053ab0",
   "metadata": {},
   "outputs": [
    {
     "data": {
      "text/plain": [
       "7"
      ]
     },
     "execution_count": 12,
     "metadata": {},
     "output_type": "execute_result"
    }
   ],
   "source": [
    "len(monarcas.keys())"
   ]
  },
  {
   "cell_type": "code",
   "execution_count": 13,
   "id": "ce821fc2",
   "metadata": {},
   "outputs": [
    {
     "data": {
      "text/plain": [
       "False"
      ]
     },
     "execution_count": 13,
     "metadata": {},
     "output_type": "execute_result"
    }
   ],
   "source": [
    "'Monaco'in monarcas"
   ]
  },
  {
   "cell_type": "code",
   "execution_count": 14,
   "id": "36045f25",
   "metadata": {},
   "outputs": [
    {
     "data": {
      "text/plain": [
       "True"
      ]
     },
     "execution_count": 14,
     "metadata": {},
     "output_type": "execute_result"
    }
   ],
   "source": [
    "'Suecia' not in monarcas"
   ]
  },
  {
   "cell_type": "code",
   "execution_count": 16,
   "id": "9b5d8282",
   "metadata": {},
   "outputs": [
    {
     "data": {
      "text/plain": [
       "['Bélgica',\n",
       " 'Dinamarca',\n",
       " 'Holanda',\n",
       " 'Noruega',\n",
       " 'España',\n",
       " 'Reino Unido',\n",
       " 'Luxemburgo']"
      ]
     },
     "execution_count": 16,
     "metadata": {},
     "output_type": "execute_result"
    }
   ],
   "source": [
    "list(monarcas.keys())"
   ]
  },
  {
   "cell_type": "code",
   "execution_count": 17,
   "id": "139f7ea6",
   "metadata": {},
   "outputs": [
    {
     "data": {
      "text/plain": [
       "['año nuevo',\n",
       " 'epifanía del señor',\n",
       " 'viernes santo',\n",
       " 'asunción de la virgen',\n",
       " 'fiesta nacional de España',\n",
       " 'todos los santos',\n",
       " 'día de la constitución española',\n",
       " 'Inmaculada concepción']"
      ]
     },
     "execution_count": 17,
     "metadata": {},
     "output_type": "execute_result"
    }
   ],
   "source": [
    "list(festivos.values())"
   ]
  },
  {
   "cell_type": "code",
   "execution_count": 18,
   "id": "b0aab60d",
   "metadata": {},
   "outputs": [
    {
     "name": "stdout",
     "output_type": "stream",
     "text": [
      "{'01/01': 'año nuevo', '06/01': 'epifanía del señor', '15/04': 'viernes santo', '15/08': 'asunción de la virgen', '12/10': 'fiesta nacional de España', '01/11': 'todos los santos', '06/12': 'día de la constitución española', '08/12': 'Inmaculada concepción'}\n"
     ]
    }
   ],
   "source": [
    "print(festivos)"
   ]
  },
  {
   "cell_type": "code",
   "execution_count": null,
   "id": "0fabdc36",
   "metadata": {},
   "outputs": [],
   "source": [
    "print(tuple(festivos))"
   ]
  }
 ],
 "metadata": {
  "kernelspec": {
   "display_name": "base",
   "language": "python",
   "name": "python3"
  },
  "language_info": {
   "codemirror_mode": {
    "name": "ipython",
    "version": 3
   },
   "file_extension": ".py",
   "mimetype": "text/x-python",
   "name": "python",
   "nbconvert_exporter": "python",
   "pygments_lexer": "ipython3",
   "version": "3.12.7"
  }
 },
 "nbformat": 4,
 "nbformat_minor": 5
}
